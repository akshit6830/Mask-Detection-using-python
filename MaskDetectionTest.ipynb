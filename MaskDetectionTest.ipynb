{
 "cells": [
  {
   "cell_type": "code",
   "execution_count": 3,
   "metadata": {},
   "outputs": [
    {
     "name": "stdout",
     "output_type": "stream",
     "text": [
      "gsdfg\n"
     ]
    },
    {
     "name": "stderr",
     "output_type": "stream",
     "text": [
      "Exception in thread Thread-8:\n",
      "Traceback (most recent call last):\n",
      "  File \"c:\\users\\akshit lal\\appdata\\local\\programs\\python\\python38\\lib\\threading.py\", line 932, in _bootstrap_inner\n",
      "    self.run()\n",
      "  File \"c:\\users\\akshit lal\\appdata\\local\\programs\\python\\python38\\lib\\threading.py\", line 870, in run\n",
      "    self._target(*self._args, **self._kwargs)\n",
      "  File \"<ipython-input-3-138b370d5d7d>\", line 25, in ckeckMaskMsg\n",
      "  File \"c:\\users\\akshit lal\\appdata\\local\\programs\\python\\python38\\lib\\tkinter\\messagebox.py\", line 84, in showinfo\n",
      "    return _show(title, message, INFO, OK, **options)\n",
      "  File \"c:\\users\\akshit lal\\appdata\\local\\programs\\python\\python38\\lib\\tkinter\\messagebox.py\", line 72, in _show\n",
      "    res = Message(**options).show()\n",
      "  File \"c:\\users\\akshit lal\\appdata\\local\\programs\\python\\python38\\lib\\tkinter\\commondialog.py\", line 40, in show\n",
      "    w = Frame(self.master)\n",
      "  File \"c:\\users\\akshit lal\\appdata\\local\\programs\\python\\python38\\lib\\tkinter\\__init__.py\", line 3127, in __init__\n",
      "    Widget.__init__(self, master, 'frame', cnf, {}, extra)\n",
      "  File \"c:\\users\\akshit lal\\appdata\\local\\programs\\python\\python38\\lib\\tkinter\\__init__.py\", line 2575, in __init__\n",
      "    self.tk.call(\n",
      "RuntimeError: main thread is not in main loop\n"
     ]
    }
   ],
   "source": [
    "from keras.models import load_model \n",
    "import cv2\n",
    "import numpy as np\n",
    "from tkinter import *\n",
    "from tkinter import messagebox \n",
    "import smtplib\n",
    "import threading \n",
    "\n",
    "print(\"gsdfg\")\n",
    "model = load_model('model_100.h5')\n",
    "\n",
    "haarcascade = cv2.CascadeClassifier('haarcascade_frontalface_default.xml')\n",
    "\n",
    "cap = cv2.VideoCapture(0)\n",
    "\n",
    "text_dict = {0 : 'Mask ON' , 1 : \"No Mask\"}\n",
    "color_dict = {0 : (0,255,0) , 1  : (0,0,255) }\n",
    "\n",
    "def ckeckMaskMsg():\n",
    "    root = Tk()\n",
    "    root.withdraw()\n",
    "    while cap.isOpened():\n",
    "        if label != None :\n",
    "            if label == 1 :\n",
    "                messagebox.showinfo(\"MASK PLEASE !\" , \"Please Wear Mask for your Safety and for others too\")\n",
    "    root.mainloop()\n",
    "\n",
    "t1 = threading.Thread(target=ckeckMaskMsg)\n",
    "t1.start()\n",
    "\n",
    "while cap.isOpened():\n",
    "    \n",
    "    ret , img = cap.read()\n",
    "    gray = cv2.cvtColor(img , cv2.COLOR_BGR2GRAY)\n",
    "    faces = haarcascade.detectMultiScale(gray)\n",
    "       \n",
    "    for x,y,w,h in faces : \n",
    "        \n",
    "        face_img = gray[y:y+w, x:x+w]\n",
    "        resized_img = cv2.resize(face_img , (112 , 112))\n",
    "        normalized_img = resized_img/255.0\n",
    "        reshaped_img = np.reshape(normalized_img , (1,112,112,1))\n",
    "        result = model.predict(reshaped_img)\n",
    "        \n",
    "        label = np.argmax(result , axis=1)[0]\n",
    "        \n",
    "        cv2.rectangle(img , (x,y) , (x+w , y+h) , color_dict[label] , 2 )\n",
    "        cv2.rectangle(img , (x,y-40) , (x+w , y) , color_dict[label] , -1 )\n",
    "        cv2.putText(img , text_dict[label] , (x,y-10) , cv2.FONT_HERSHEY_SIMPLEX , 0.8 , (0,0,0) , 2)\n",
    "                    \n",
    "                        \n",
    "    cv2.imshow(\"results\" , img )\n",
    "    k = cv2.waitKey(1) & 0xFF\n",
    "    if k == 27 or k == ord('q') :\n",
    "        break\n",
    "cap.release()\n",
    "cv2.destroyAllWindows()"
   ]
  },
  {
   "cell_type": "code",
   "execution_count": null,
   "metadata": {},
   "outputs": [],
   "source": []
  },
  {
   "cell_type": "code",
   "execution_count": null,
   "metadata": {},
   "outputs": [],
   "source": []
  }
 ],
 "metadata": {
  "kernelspec": {
   "display_name": "Python 3",
   "language": "python",
   "name": "python3"
  },
  "language_info": {
   "codemirror_mode": {
    "name": "ipython",
    "version": 3
   },
   "file_extension": ".py",
   "mimetype": "text/x-python",
   "name": "python",
   "nbconvert_exporter": "python",
   "pygments_lexer": "ipython3",
   "version": "3.8.7"
  }
 },
 "nbformat": 4,
 "nbformat_minor": 4
}
